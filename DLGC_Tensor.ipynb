{
  "nbformat": 4,
  "nbformat_minor": 0,
  "metadata": {
    "colab": {
      "name": "DLGC - Tensor.ipynb",
      "provenance": [],
      "collapsed_sections": [],
      "authorship_tag": "ABX9TyPtpZW1NuVcpvKib0PI0muV",
      "include_colab_link": true
    },
    "kernelspec": {
      "name": "python3",
      "display_name": "Python 3"
    },
    "language_info": {
      "name": "python"
    }
  },
  "cells": [
    {
      "cell_type": "markdown",
      "metadata": {
        "id": "view-in-github",
        "colab_type": "text"
      },
      "source": [
        "<a href=\"https://colab.research.google.com/github/thq4n/Learn-Colab/blob/main/DLGC_Tensor.ipynb\" target=\"_parent\"><img src=\"https://colab.research.google.com/assets/colab-badge.svg\" alt=\"Open In Colab\"/></a>"
      ]
    },
    {
      "cell_type": "code",
      "metadata": {
        "id": "kZxzcUT8nPLK"
      },
      "source": [
        "import torch"
      ],
      "execution_count": 1,
      "outputs": []
    },
    {
      "cell_type": "code",
      "metadata": {
        "colab": {
          "base_uri": "https://localhost:8080/"
        },
        "id": "0HzSyYRnokKx",
        "outputId": "f9c8fc58-ceb8-41b9-ba74-5397e0d153b8"
      },
      "source": [
        "x = torch.tensor([[1,2,3],\n",
        "                  [4,5,6],\n",
        "                  [7,8,9]])\n",
        "x"
      ],
      "execution_count": 7,
      "outputs": [
        {
          "output_type": "execute_result",
          "data": {
            "text/plain": [
              "tensor([[1, 2, 3],\n",
              "        [4, 5, 6],\n",
              "        [7, 8, 9]])"
            ]
          },
          "metadata": {
            "tags": []
          },
          "execution_count": 7
        }
      ]
    },
    {
      "cell_type": "code",
      "metadata": {
        "colab": {
          "base_uri": "https://localhost:8080/"
        },
        "id": "ihuQq0w3pSuo",
        "outputId": "bb8c6c08-b1fe-46f8-8990-7c440b800d28"
      },
      "source": [
        "x = torch.tensor([[1,2,3],\n",
        "                  [4,5,6],\n",
        "                  [7,8,9]], dtype = torch.float)\n",
        "x"
      ],
      "execution_count": 8,
      "outputs": [
        {
          "output_type": "execute_result",
          "data": {
            "text/plain": [
              "tensor([[1., 2., 3.],\n",
              "        [4., 5., 6.],\n",
              "        [7., 8., 9.]])"
            ]
          },
          "metadata": {
            "tags": []
          },
          "execution_count": 8
        }
      ]
    },
    {
      "cell_type": "code",
      "metadata": {
        "colab": {
          "base_uri": "https://localhost:8080/"
        },
        "id": "a10MO5mZqWT4",
        "outputId": "f6c93558-3e5f-4a02-b799-3d909e23ff7b"
      },
      "source": [
        "torch.ones(1,2,dtype=torch.int)"
      ],
      "execution_count": 9,
      "outputs": [
        {
          "output_type": "execute_result",
          "data": {
            "text/plain": [
              "tensor([[1, 1]], dtype=torch.int32)"
            ]
          },
          "metadata": {
            "tags": []
          },
          "execution_count": 9
        }
      ]
    },
    {
      "cell_type": "code",
      "metadata": {
        "colab": {
          "base_uri": "https://localhost:8080/"
        },
        "id": "5vK-gNdmqdlV",
        "outputId": "f0524095-8498-47a7-93fe-21bff642cc14"
      },
      "source": [
        "torch.zeros(5,2,2,dtype=torch.float)"
      ],
      "execution_count": 11,
      "outputs": [
        {
          "output_type": "execute_result",
          "data": {
            "text/plain": [
              "tensor([[[0., 0.],\n",
              "         [0., 0.]],\n",
              "\n",
              "        [[0., 0.],\n",
              "         [0., 0.]],\n",
              "\n",
              "        [[0., 0.],\n",
              "         [0., 0.]],\n",
              "\n",
              "        [[0., 0.],\n",
              "         [0., 0.]],\n",
              "\n",
              "        [[0., 0.],\n",
              "         [0., 0.]]])"
            ]
          },
          "metadata": {
            "tags": []
          },
          "execution_count": 11
        }
      ]
    },
    {
      "cell_type": "code",
      "metadata": {
        "colab": {
          "base_uri": "https://localhost:8080/"
        },
        "id": "SgnkI65FrI-9",
        "outputId": "6e082b07-f51a-4097-bfab-042b056fdcaf"
      },
      "source": [
        "x = torch.rand(2,2,4,4,dtype=torch.float)\n",
        "x\n"
      ],
      "execution_count": 20,
      "outputs": [
        {
          "output_type": "execute_result",
          "data": {
            "text/plain": [
              "tensor([[[[0.6563, 0.4610, 0.9798, 0.8728],\n",
              "          [0.1260, 0.0142, 0.7300, 0.4257],\n",
              "          [0.6501, 0.8835, 0.3671, 0.4005],\n",
              "          [0.0405, 0.5332, 0.5249, 0.8225]],\n",
              "\n",
              "         [[0.2271, 0.4352, 0.9578, 0.9391],\n",
              "          [0.8226, 0.7317, 0.0047, 0.5565],\n",
              "          [0.2958, 0.4543, 0.8295, 0.9969],\n",
              "          [0.7216, 0.6509, 0.4893, 0.2681]]],\n",
              "\n",
              "\n",
              "        [[[0.9265, 0.2873, 0.2594, 0.8490],\n",
              "          [0.4063, 0.5182, 0.2691, 0.6094],\n",
              "          [0.9197, 0.6945, 0.4071, 0.1498],\n",
              "          [0.0180, 0.1910, 0.6912, 0.4160]],\n",
              "\n",
              "         [[0.6243, 0.8477, 0.7344, 0.7704],\n",
              "          [0.7154, 0.6417, 0.5547, 0.5876],\n",
              "          [0.8036, 0.4978, 0.1901, 0.2058],\n",
              "          [0.3229, 0.1731, 0.5693, 0.1093]]]])"
            ]
          },
          "metadata": {
            "tags": []
          },
          "execution_count": 20
        }
      ]
    },
    {
      "cell_type": "code",
      "metadata": {
        "colab": {
          "base_uri": "https://localhost:8080/"
        },
        "id": "6C22ePnaslUL",
        "outputId": "3ac131dc-c7d8-4f3a-fc85-c1ec5f6f949d"
      },
      "source": [
        "x[:,:,:,3]"
      ],
      "execution_count": 26,
      "outputs": [
        {
          "output_type": "execute_result",
          "data": {
            "text/plain": [
              "tensor([[[0.8728, 0.4257, 0.4005, 0.8225],\n",
              "         [0.9391, 0.5565, 0.9969, 0.2681]],\n",
              "\n",
              "        [[0.8490, 0.6094, 0.1498, 0.4160],\n",
              "         [0.7704, 0.5876, 0.2058, 0.1093]]])"
            ]
          },
          "metadata": {
            "tags": []
          },
          "execution_count": 26
        }
      ]
    },
    {
      "cell_type": "code",
      "metadata": {
        "colab": {
          "base_uri": "https://localhost:8080/"
        },
        "id": "dP5_4NPItSt0",
        "outputId": "86d2cbd1-52c7-484a-9e63-beea16b58c35"
      },
      "source": [
        "x.size()"
      ],
      "execution_count": 27,
      "outputs": [
        {
          "output_type": "execute_result",
          "data": {
            "text/plain": [
              "torch.Size([2, 2, 4, 4])"
            ]
          },
          "metadata": {
            "tags": []
          },
          "execution_count": 27
        }
      ]
    },
    {
      "cell_type": "code",
      "metadata": {
        "colab": {
          "base_uri": "https://localhost:8080/"
        },
        "id": "BIN7VFKatZBD",
        "outputId": "7b38b683-cd30-42ba-871a-5085a5d7391a"
      },
      "source": [
        "x[0,1].size()"
      ],
      "execution_count": 32,
      "outputs": [
        {
          "output_type": "execute_result",
          "data": {
            "text/plain": [
              "torch.Size([4, 4])"
            ]
          },
          "metadata": {
            "tags": []
          },
          "execution_count": 32
        }
      ]
    },
    {
      "cell_type": "code",
      "metadata": {
        "colab": {
          "base_uri": "https://localhost:8080/"
        },
        "id": "aR5aRrRYt7d9",
        "outputId": "79332dc4-0a16-4d8e-99ae-7dd30bfb8a87"
      },
      "source": [
        "x.size()[0]"
      ],
      "execution_count": 33,
      "outputs": [
        {
          "output_type": "execute_result",
          "data": {
            "text/plain": [
              "2"
            ]
          },
          "metadata": {
            "tags": []
          },
          "execution_count": 33
        }
      ]
    }
  ]
}