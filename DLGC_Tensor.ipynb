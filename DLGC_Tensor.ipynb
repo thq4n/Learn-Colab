{
  "nbformat": 4,
  "nbformat_minor": 0,
  "metadata": {
    "colab": {
      "name": "DLGC - Tensor.ipynb",
      "provenance": [],
      "collapsed_sections": [],
      "authorship_tag": "ABX9TyNv9j05TLMTQeirAmU8TewK",
      "include_colab_link": true
    },
    "kernelspec": {
      "name": "python3",
      "display_name": "Python 3"
    },
    "language_info": {
      "name": "python"
    }
  },
  "cells": [
    {
      "cell_type": "markdown",
      "metadata": {
        "id": "view-in-github",
        "colab_type": "text"
      },
      "source": [
        "<a href=\"https://colab.research.google.com/github/thq4n/Learn-Colab/blob/main/DLGC_Tensor.ipynb\" target=\"_parent\"><img src=\"https://colab.research.google.com/assets/colab-badge.svg\" alt=\"Open In Colab\"/></a>"
      ]
    },
    {
      "cell_type": "code",
      "metadata": {
        "id": "kZxzcUT8nPLK"
      },
      "source": [
        "import torch"
      ],
      "execution_count": null,
      "outputs": []
    },
    {
      "cell_type": "code",
      "metadata": {
        "colab": {
          "base_uri": "https://localhost:8080/"
        },
        "id": "0HzSyYRnokKx",
        "outputId": "f9c8fc58-ceb8-41b9-ba74-5397e0d153b8"
      },
      "source": [
        "x = torch.tensor([[1,2,3],\n",
        "                  [4,5,6],\n",
        "                  [7,8,9]])\n",
        "x"
      ],
      "execution_count": null,
      "outputs": [
        {
          "output_type": "execute_result",
          "data": {
            "text/plain": [
              "tensor([[1, 2, 3],\n",
              "        [4, 5, 6],\n",
              "        [7, 8, 9]])"
            ]
          },
          "metadata": {
            "tags": []
          },
          "execution_count": 7
        }
      ]
    },
    {
      "cell_type": "code",
      "metadata": {
        "colab": {
          "base_uri": "https://localhost:8080/"
        },
        "id": "ihuQq0w3pSuo",
        "outputId": "bb8c6c08-b1fe-46f8-8990-7c440b800d28"
      },
      "source": [
        "x = torch.tensor([[1,2,3],\n",
        "                  [4,5,6],\n",
        "                  [7,8,9]], dtype = torch.float)\n",
        "x"
      ],
      "execution_count": null,
      "outputs": [
        {
          "output_type": "execute_result",
          "data": {
            "text/plain": [
              "tensor([[1., 2., 3.],\n",
              "        [4., 5., 6.],\n",
              "        [7., 8., 9.]])"
            ]
          },
          "metadata": {
            "tags": []
          },
          "execution_count": 8
        }
      ]
    },
    {
      "cell_type": "code",
      "metadata": {
        "colab": {
          "base_uri": "https://localhost:8080/"
        },
        "id": "a10MO5mZqWT4",
        "outputId": "f6c93558-3e5f-4a02-b799-3d909e23ff7b"
      },
      "source": [
        "torch.ones(1,2,dtype=torch.int)"
      ],
      "execution_count": null,
      "outputs": [
        {
          "output_type": "execute_result",
          "data": {
            "text/plain": [
              "tensor([[1, 1]], dtype=torch.int32)"
            ]
          },
          "metadata": {
            "tags": []
          },
          "execution_count": 9
        }
      ]
    },
    {
      "cell_type": "code",
      "metadata": {
        "colab": {
          "base_uri": "https://localhost:8080/"
        },
        "id": "5vK-gNdmqdlV",
        "outputId": "f0524095-8498-47a7-93fe-21bff642cc14"
      },
      "source": [
        "torch.zeros(5,2,2,dtype=torch.float)"
      ],
      "execution_count": null,
      "outputs": [
        {
          "output_type": "execute_result",
          "data": {
            "text/plain": [
              "tensor([[[0., 0.],\n",
              "         [0., 0.]],\n",
              "\n",
              "        [[0., 0.],\n",
              "         [0., 0.]],\n",
              "\n",
              "        [[0., 0.],\n",
              "         [0., 0.]],\n",
              "\n",
              "        [[0., 0.],\n",
              "         [0., 0.]],\n",
              "\n",
              "        [[0., 0.],\n",
              "         [0., 0.]]])"
            ]
          },
          "metadata": {
            "tags": []
          },
          "execution_count": 11
        }
      ]
    },
    {
      "cell_type": "code",
      "metadata": {
        "colab": {
          "base_uri": "https://localhost:8080/"
        },
        "id": "SgnkI65FrI-9",
        "outputId": "6e082b07-f51a-4097-bfab-042b056fdcaf"
      },
      "source": [
        "x = torch.rand(2,2,4,4,dtype=torch.float)\n",
        "x\n"
      ],
      "execution_count": null,
      "outputs": [
        {
          "output_type": "execute_result",
          "data": {
            "text/plain": [
              "tensor([[[[0.6563, 0.4610, 0.9798, 0.8728],\n",
              "          [0.1260, 0.0142, 0.7300, 0.4257],\n",
              "          [0.6501, 0.8835, 0.3671, 0.4005],\n",
              "          [0.0405, 0.5332, 0.5249, 0.8225]],\n",
              "\n",
              "         [[0.2271, 0.4352, 0.9578, 0.9391],\n",
              "          [0.8226, 0.7317, 0.0047, 0.5565],\n",
              "          [0.2958, 0.4543, 0.8295, 0.9969],\n",
              "          [0.7216, 0.6509, 0.4893, 0.2681]]],\n",
              "\n",
              "\n",
              "        [[[0.9265, 0.2873, 0.2594, 0.8490],\n",
              "          [0.4063, 0.5182, 0.2691, 0.6094],\n",
              "          [0.9197, 0.6945, 0.4071, 0.1498],\n",
              "          [0.0180, 0.1910, 0.6912, 0.4160]],\n",
              "\n",
              "         [[0.6243, 0.8477, 0.7344, 0.7704],\n",
              "          [0.7154, 0.6417, 0.5547, 0.5876],\n",
              "          [0.8036, 0.4978, 0.1901, 0.2058],\n",
              "          [0.3229, 0.1731, 0.5693, 0.1093]]]])"
            ]
          },
          "metadata": {
            "tags": []
          },
          "execution_count": 20
        }
      ]
    },
    {
      "cell_type": "code",
      "metadata": {
        "colab": {
          "base_uri": "https://localhost:8080/"
        },
        "id": "6C22ePnaslUL",
        "outputId": "3ac131dc-c7d8-4f3a-fc85-c1ec5f6f949d"
      },
      "source": [
        "x[:,:,:,3]"
      ],
      "execution_count": null,
      "outputs": [
        {
          "output_type": "execute_result",
          "data": {
            "text/plain": [
              "tensor([[[0.8728, 0.4257, 0.4005, 0.8225],\n",
              "         [0.9391, 0.5565, 0.9969, 0.2681]],\n",
              "\n",
              "        [[0.8490, 0.6094, 0.1498, 0.4160],\n",
              "         [0.7704, 0.5876, 0.2058, 0.1093]]])"
            ]
          },
          "metadata": {
            "tags": []
          },
          "execution_count": 26
        }
      ]
    },
    {
      "cell_type": "code",
      "metadata": {
        "colab": {
          "base_uri": "https://localhost:8080/"
        },
        "id": "dP5_4NPItSt0",
        "outputId": "86d2cbd1-52c7-484a-9e63-beea16b58c35"
      },
      "source": [
        "x.size()"
      ],
      "execution_count": null,
      "outputs": [
        {
          "output_type": "execute_result",
          "data": {
            "text/plain": [
              "torch.Size([2, 2, 4, 4])"
            ]
          },
          "metadata": {
            "tags": []
          },
          "execution_count": 27
        }
      ]
    },
    {
      "cell_type": "code",
      "metadata": {
        "colab": {
          "base_uri": "https://localhost:8080/"
        },
        "id": "BIN7VFKatZBD",
        "outputId": "7b38b683-cd30-42ba-871a-5085a5d7391a"
      },
      "source": [
        "x[0,1].size()"
      ],
      "execution_count": null,
      "outputs": [
        {
          "output_type": "execute_result",
          "data": {
            "text/plain": [
              "torch.Size([4, 4])"
            ]
          },
          "metadata": {
            "tags": []
          },
          "execution_count": 32
        }
      ]
    },
    {
      "cell_type": "code",
      "metadata": {
        "colab": {
          "base_uri": "https://localhost:8080/"
        },
        "id": "aR5aRrRYt7d9",
        "outputId": "79332dc4-0a16-4d8e-99ae-7dd30bfb8a87"
      },
      "source": [
        "x.size()[0]"
      ],
      "execution_count": null,
      "outputs": [
        {
          "output_type": "execute_result",
          "data": {
            "text/plain": [
              "2"
            ]
          },
          "metadata": {
            "tags": []
          },
          "execution_count": 33
        }
      ]
    },
    {
      "cell_type": "code",
      "metadata": {
        "colab": {
          "base_uri": "https://localhost:8080/"
        },
        "id": "YlymI8JWu2uG",
        "outputId": "24ef0c60-8266-4234-d77b-014572ceb1b3"
      },
      "source": [
        "matrix = torch.rand(4,4)\n",
        "matrix"
      ],
      "execution_count": null,
      "outputs": [
        {
          "output_type": "execute_result",
          "data": {
            "text/plain": [
              "tensor([[0.5577, 0.8344, 0.9150, 0.8782],\n",
              "        [0.7246, 0.4266, 0.5599, 0.7728],\n",
              "        [0.6319, 0.5342, 0.5558, 0.3884],\n",
              "        [0.5150, 0.2037, 0.9612, 0.4421]])"
            ]
          },
          "metadata": {
            "tags": []
          },
          "execution_count": 39
        }
      ]
    },
    {
      "cell_type": "code",
      "metadata": {
        "colab": {
          "base_uri": "https://localhost:8080/"
        },
        "id": "3RvZ1AEtu8Vj",
        "outputId": "02b9199d-370d-453d-cb5a-a4ad105f9b30"
      },
      "source": [
        "matrix.reshape(1,16)"
      ],
      "execution_count": null,
      "outputs": [
        {
          "output_type": "execute_result",
          "data": {
            "text/plain": [
              "tensor([[0.5577, 0.8344, 0.9150, 0.8782, 0.7246, 0.4266, 0.5599, 0.7728, 0.6319,\n",
              "         0.5342, 0.5558, 0.3884, 0.5150, 0.2037, 0.9612, 0.4421]])"
            ]
          },
          "metadata": {
            "tags": []
          },
          "execution_count": 45
        }
      ]
    },
    {
      "cell_type": "code",
      "metadata": {
        "colab": {
          "base_uri": "https://localhost:8080/"
        },
        "id": "YW9Z7Od2u8Xf",
        "outputId": "1f1049ba-3950-4bd5-b05f-0438d8f9175f"
      },
      "source": [
        "matrix.reshape(-1)"
      ],
      "execution_count": null,
      "outputs": [
        {
          "output_type": "execute_result",
          "data": {
            "text/plain": [
              "tensor([0.5577, 0.8344, 0.9150, 0.8782, 0.7246, 0.4266, 0.5599, 0.7728, 0.6319,\n",
              "        0.5342, 0.5558, 0.3884, 0.5150, 0.2037, 0.9612, 0.4421])"
            ]
          },
          "metadata": {
            "tags": []
          },
          "execution_count": 46
        }
      ]
    },
    {
      "cell_type": "code",
      "metadata": {
        "colab": {
          "base_uri": "https://localhost:8080/"
        },
        "id": "eoqRLMGzvucj",
        "outputId": "dd6cb90c-bf09-40fe-86d7-fc930078f579"
      },
      "source": [
        "torch.squeeze(matrix.reshape(1,16))"
      ],
      "execution_count": null,
      "outputs": [
        {
          "output_type": "execute_result",
          "data": {
            "text/plain": [
              "tensor([0.5577, 0.8344, 0.9150, 0.8782, 0.7246, 0.4266, 0.5599, 0.7728, 0.6319,\n",
              "        0.5342, 0.5558, 0.3884, 0.5150, 0.2037, 0.9612, 0.4421])"
            ]
          },
          "metadata": {
            "tags": []
          },
          "execution_count": 47
        }
      ]
    },
    {
      "cell_type": "code",
      "metadata": {
        "colab": {
          "base_uri": "https://localhost:8080/"
        },
        "id": "zVuhLkavwQXL",
        "outputId": "f96701f0-19a4-41a4-aaf1-0be6893c06e1"
      },
      "source": [
        "matrix.sum(0)"
      ],
      "execution_count": null,
      "outputs": [
        {
          "output_type": "execute_result",
          "data": {
            "text/plain": [
              "tensor([2.4291, 1.9990, 2.9919, 2.4816])"
            ]
          },
          "metadata": {
            "tags": []
          },
          "execution_count": 49
        }
      ]
    },
    {
      "cell_type": "code",
      "metadata": {
        "colab": {
          "base_uri": "https://localhost:8080/"
        },
        "id": "gFcvuYhcwcoi",
        "outputId": "9a2e3412-4b20-44f3-f0f4-97d6631d2276"
      },
      "source": [
        "torch.max(matrix)"
      ],
      "execution_count": null,
      "outputs": [
        {
          "output_type": "execute_result",
          "data": {
            "text/plain": [
              "tensor(0.9612)"
            ]
          },
          "metadata": {
            "tags": []
          },
          "execution_count": 51
        }
      ]
    },
    {
      "cell_type": "code",
      "metadata": {
        "colab": {
          "base_uri": "https://localhost:8080/"
        },
        "id": "CAMQzbXtxoPy",
        "outputId": "b050467b-c054-45b9-a8d9-f4604eeec24d"
      },
      "source": [
        "print(matrix)"
      ],
      "execution_count": null,
      "outputs": [
        {
          "output_type": "stream",
          "text": [
            "tensor([[0.5577, 0.8344, 0.9150, 0.8782],\n",
            "        [0.7246, 0.4266, 0.5599, 0.7728],\n",
            "        [0.6319, 0.5342, 0.5558, 0.3884],\n",
            "        [0.5150, 0.2037, 0.9612, 0.4421]])\n"
          ],
          "name": "stdout"
        }
      ]
    },
    {
      "cell_type": "code",
      "metadata": {
        "colab": {
          "base_uri": "https://localhost:8080/"
        },
        "id": "KihSxykSwl2X",
        "outputId": "d8a73443-968b-4134-bfdc-28fe410521b4"
      },
      "source": [
        "values, indices = torch.max(matrix, 0)\n",
        "print(values)\n",
        "print(indices)"
      ],
      "execution_count": null,
      "outputs": [
        {
          "output_type": "stream",
          "text": [
            "tensor([0.7246, 0.8344, 0.9612, 0.8782])\n",
            "tensor([1, 0, 3, 0])\n"
          ],
          "name": "stdout"
        }
      ]
    },
    {
      "cell_type": "code",
      "metadata": {
        "colab": {
          "base_uri": "https://localhost:8080/"
        },
        "id": "w53sPP0Mxl-b",
        "outputId": "e5f631ac-5093-4d28-8e6d-2975e2e1f663"
      },
      "source": [
        "values, indices = torch.max(matrix, 1)\n",
        "print(values)\n",
        "print(indices)"
      ],
      "execution_count": null,
      "outputs": [
        {
          "output_type": "stream",
          "text": [
            "tensor([0.9150, 0.7728, 0.6319, 0.9612])\n",
            "tensor([2, 3, 0, 2])\n"
          ],
          "name": "stdout"
        }
      ]
    },
    {
      "cell_type": "code",
      "metadata": {
        "colab": {
          "base_uri": "https://localhost:8080/"
        },
        "id": "6sVHLz_fxrSv",
        "outputId": "8d77d324-272c-4189-815d-2c7d8ea0db32"
      },
      "source": [
        "print(matrix[0,0])\n",
        "# matrix[0,0] == 1\n",
        "matrix[0,0].item()   == 1"
      ],
      "execution_count": null,
      "outputs": [
        {
          "output_type": "stream",
          "text": [
            "tensor(0.5577)\n"
          ],
          "name": "stdout"
        },
        {
          "output_type": "execute_result",
          "data": {
            "text/plain": [
              "False"
            ]
          },
          "metadata": {
            "tags": []
          },
          "execution_count": 63
        }
      ]
    },
    {
      "cell_type": "code",
      "metadata": {
        "colab": {
          "base_uri": "https://localhost:8080/"
        },
        "id": "2ig_8ugQyJ3y",
        "outputId": "354b73fc-57f5-429f-f51e-52aa641c5169"
      },
      "source": [
        "matrix.numpy()"
      ],
      "execution_count": null,
      "outputs": [
        {
          "output_type": "execute_result",
          "data": {
            "text/plain": [
              "array([[0.55766284, 0.83441675, 0.9150134 , 0.878213  ],\n",
              "       [0.7245872 , 0.42655945, 0.5599177 , 0.7728359 ],\n",
              "       [0.63191724, 0.5342298 , 0.55577457, 0.38842022],\n",
              "       [0.5149504 , 0.20374978, 0.9612181 , 0.442096  ]], dtype=float32)"
            ]
          },
          "metadata": {
            "tags": []
          },
          "execution_count": 64
        }
      ]
    },
    {
      "cell_type": "code",
      "metadata": {
        "colab": {
          "base_uri": "https://localhost:8080/"
        },
        "id": "a1Uyk57zyhT9",
        "outputId": "a05ebd7e-5cd0-49d2-ffe4-299770886527"
      },
      "source": [
        "import numpy as np\n",
        "\n",
        "a = np.array([[0,1],[1,2]])\n",
        "b = torch.from_numpy(a)\n",
        "print(a)\n",
        "print(b)"
      ],
      "execution_count": null,
      "outputs": [
        {
          "output_type": "stream",
          "text": [
            "[[0 1]\n",
            " [1 2]]\n",
            "tensor([[0, 1],\n",
            "        [1, 2]])\n"
          ],
          "name": "stdout"
        }
      ]
    },
    {
      "cell_type": "code",
      "metadata": {
        "colab": {
          "base_uri": "https://localhost:8080/"
        },
        "id": "6NQOOYFlyuDb",
        "outputId": "d1bb415b-9bbd-4d68-f229-dcf58c22803b"
      },
      "source": [
        "a[0,0] = -1\n",
        "a"
      ],
      "execution_count": null,
      "outputs": [
        {
          "output_type": "execute_result",
          "data": {
            "text/plain": [
              "array([[-1,  1],\n",
              "       [ 1,  2]])"
            ]
          },
          "metadata": {
            "tags": []
          },
          "execution_count": 67
        }
      ]
    },
    {
      "cell_type": "code",
      "metadata": {
        "colab": {
          "base_uri": "https://localhost:8080/"
        },
        "id": "qbkPYfPoy6gy",
        "outputId": "29ef4a4d-283e-41ff-f3db-4b061b75c3e8"
      },
      "source": [
        "b"
      ],
      "execution_count": null,
      "outputs": [
        {
          "output_type": "execute_result",
          "data": {
            "text/plain": [
              "tensor([[-1,  1],\n",
              "        [ 1,  2]])"
            ]
          },
          "metadata": {
            "tags": []
          },
          "execution_count": 68
        }
      ]
    }
  ]
}