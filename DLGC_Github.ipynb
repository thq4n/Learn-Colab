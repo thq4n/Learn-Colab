{
  "nbformat": 4,
  "nbformat_minor": 0,
  "metadata": {
    "colab": {
      "name": "DLGC-Github.ipynb",
      "provenance": [],
      "collapsed_sections": [],
      "mount_file_id": "1KSh6RKdAcz4VKfDEmghge6ueYcKejUI6",
      "authorship_tag": "ABX9TyPeJki5/aXDHvUN1u88ETcQ",
      "include_colab_link": true
    },
    "kernelspec": {
      "name": "python3",
      "display_name": "Python 3"
    },
    "language_info": {
      "name": "python"
    }
  },
  "cells": [
    {
      "cell_type": "markdown",
      "metadata": {
        "id": "view-in-github",
        "colab_type": "text"
      },
      "source": [
        "<a href=\"https://colab.research.google.com/github/thq4n/Learn-Colab/blob/main/DLGC_Github.ipynb\" target=\"_parent\"><img src=\"https://colab.research.google.com/assets/colab-badge.svg\" alt=\"Open In Colab\"/></a>"
      ]
    },
    {
      "cell_type": "markdown",
      "metadata": {
        "id": "8ZeTxaZEd5nS"
      },
      "source": [
        "Tương tác với file qua Google Drive\n",
        "\n"
      ]
    },
    {
      "cell_type": "code",
      "metadata": {
        "id": "ps_Gfi7JRyth"
      },
      "source": [
        "from google.colab import drive\n",
        "drive.mount('/content/drive')"
      ],
      "execution_count": null,
      "outputs": []
    },
    {
      "cell_type": "code",
      "metadata": {
        "id": "RHTQoGFFboD8"
      },
      "source": [
        "with open('/content/drive/MyDrive/Deep Learning with Google Colab/Test.txt','w') as f:\n",
        "    f.write('Hello Thieu Quan')"
      ],
      "execution_count": 11,
      "outputs": []
    },
    {
      "cell_type": "code",
      "metadata": {
        "id": "9_zAVYvzdzDe"
      },
      "source": [
        "with open('/content/drive/MyDrive/Deep Learning with Google Colab/Test.txt','r') as f:\n",
        "    print(f.read())"
      ],
      "execution_count": null,
      "outputs": []
    },
    {
      "cell_type": "markdown",
      "metadata": {
        "id": "j4Bi9fxbeDc7"
      },
      "source": [
        "Tương tác với file local"
      ]
    },
    {
      "cell_type": "code",
      "metadata": {
        "id": "il46PT0PeFgW"
      },
      "source": [
        "from google.colab import files\n",
        "\n",
        "uploaded = files.upload()\n",
        "\n",
        "for filename in uploaded.keys():\n",
        "    print(uploaded[filename])"
      ],
      "execution_count": null,
      "outputs": []
    },
    {
      "cell_type": "markdown",
      "metadata": {
        "id": "9Nbi0EvLgS8m"
      },
      "source": [
        "Tải file"
      ]
    },
    {
      "cell_type": "code",
      "metadata": {
        "id": "aN2bxLIJgSHS"
      },
      "source": [
        "with open('test_download.txt', 'w') as f:\n",
        "    f.write(\"Download me please!\")\n",
        "\n",
        "files.download('test_download.txt')"
      ],
      "execution_count": null,
      "outputs": []
    },
    {
      "cell_type": "code",
      "metadata": {
        "id": "SM-1xqxRg98h"
      },
      "source": [
        "!wget 25.io/toau/audio/sample.txt"
      ],
      "execution_count": null,
      "outputs": []
    }
  ]
}