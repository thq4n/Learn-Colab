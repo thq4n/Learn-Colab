{
  "nbformat": 4,
  "nbformat_minor": 0,
  "metadata": {
    "colab": {
      "name": "DLGC - Working with models.ipynb",
      "provenance": [],
      "collapsed_sections": [],
      "authorship_tag": "ABX9TyOOMNnxRw8XE4yBDhUKuU5g",
      "include_colab_link": true
    },
    "kernelspec": {
      "name": "python3",
      "display_name": "Python 3"
    },
    "language_info": {
      "name": "python"
    }
  },
  "cells": [
    {
      "cell_type": "markdown",
      "metadata": {
        "id": "view-in-github",
        "colab_type": "text"
      },
      "source": [
        "<a href=\"https://colab.research.google.com/github/thq4n/Learn-Colab/blob/main/DLGC_Working_with_models.ipynb\" target=\"_parent\"><img src=\"https://colab.research.google.com/assets/colab-badge.svg\" alt=\"Open In Colab\"/></a>"
      ]
    },
    {
      "cell_type": "code",
      "metadata": {
        "id": "CPBlvrYgw3Oa"
      },
      "source": [
        "import torch\n",
        "torch.manual_seed(0)\n",
        "import matplotlib.pyplot as plt"
      ],
      "execution_count": 46,
      "outputs": []
    },
    {
      "cell_type": "code",
      "metadata": {
        "colab": {
          "base_uri": "https://localhost:8080/",
          "height": 269
        },
        "id": "X6ZWqHaf-874",
        "outputId": "d8dd18c3-a0cb-4d53-feab-b4ddca174cdd"
      },
      "source": [
        "# Data generation and visualization.\n",
        "x = torch.rand(1000,1)\n",
        "y = 2 * x + 0.1 * torch.rand(x.size())\n",
        "\n",
        "plt.scatter(x.data.numpy(), y.data.numpy())\n",
        "plt.xlim(0,2)\n",
        "plt.ylim(0,3)\n",
        "plt.show()\n"
      ],
      "execution_count": 47,
      "outputs": [
        {
          "output_type": "display_data",
          "data": {
            "image/png": "[encoded data removed]",
            "text/plain": [
              "<Figure size 432x288 with 1 Axes>"
            ]
          },
          "metadata": {
            "tags": [],
            "needs_background": "light"
          }
        }
      ]
    },
    {
      "cell_type": "code",
      "metadata": {
        "id": "A8we0XaxB7Xw"
      },
      "source": [
        "# Network struture:\n",
        "class MyNNet(torch.nn.Module):\n",
        "    def __init__(self, n_hidden):\n",
        "        super(MyNNet, self).__init__()\n",
        "        self.hidden = torch.nn.Linear(1, n_hidden)  # The single hidden layer\n",
        "        self.relu = torch.nn.ReLU()                 # activation function\n",
        "        self.output = torch.nn.Linear(n_hidden, 1)  # output layer\n",
        "\n",
        "    def forward(self, input):\n",
        "        out = self.hidden(input)\n",
        "        out = self.relu(out)\n",
        "        out = self.output(out)\n",
        "        return out\n",
        "    "
      ],
      "execution_count": 48,
      "outputs": []
    },
    {
      "cell_type": "code",
      "metadata": {
        "id": "NP94cTSTDYfM"
      },
      "source": [
        "# Set up a model and training components:\n",
        "n_epoch = 10\n",
        "learning_rate = 0.001\n",
        "\n",
        "model = MyNNet(10)\n",
        "optimizer = torch.optim.SGD(model.parameters(), lr = learning_rate)\n",
        "loss_func = torch.nn.MSELoss()"
      ],
      "execution_count": 49,
      "outputs": []
    },
    {
      "cell_type": "code",
      "metadata": {
        "colab": {
          "base_uri": "https://localhost:8080/"
        },
        "id": "QEfzT1rFEXNe",
        "outputId": "bfa13985-987a-464d-b680-36a52811f661"
      },
      "source": [
        "# Start traning:\n",
        "for epoch in range(n_epoch):\n",
        "    for i in range (x.size()[0]):\n",
        "        y_pred = model(x[i])\n",
        "        loss = loss_func(y[i],y_pred)\n",
        "\n",
        "        optimizer.zero_grad() #clear gradients for next pass\n",
        "        loss.backward() # backward pass\n",
        "        optimizer.step() #adjust parameters\n",
        "    print(f'Epoch {epoch + 1}. Loss: {loss.item():.4f}')\n"
      ],
      "execution_count": 52,
      "outputs": [
        {
          "output_type": "stream",
          "text": [
            "Epoch 1. Loss: 0.0026\n",
            "Epoch 2. Loss: 0.0027\n",
            "Epoch 3. Loss: 0.0027\n",
            "Epoch 4. Loss: 0.0026\n",
            "Epoch 5. Loss: 0.0026\n",
            "Epoch 6. Loss: 0.0025\n",
            "Epoch 7. Loss: 0.0024\n",
            "Epoch 8. Loss: 0.0023\n",
            "Epoch 9. Loss: 0.0022\n",
            "Epoch 10. Loss: 0.0022\n"
          ],
          "name": "stdout"
        }
      ]
    },
    {
      "cell_type": "code",
      "metadata": {
        "colab": {
          "base_uri": "https://localhost:8080/",
          "height": 269
        },
        "id": "tLr3Tp75IBbO",
        "outputId": "2eba8b43-d3d1-4ad1-961b-8ebb92a00fcf"
      },
      "source": [
        "x_test = torch.rand(50, 1)\n",
        "y_pred = []\n",
        "with torch.no_grad():\n",
        "    for i in range(x_test.size()[0]):\n",
        "        y_pred.append(model(x_test[i]).item())\n",
        "\n",
        "plt.scatter(x_test.data.numpy(), y_pred)\n",
        "plt.xlim(0, 1)\n",
        "plt.ylim(0, 2)\n",
        "plt.show()"
      ],
      "execution_count": 53,
      "outputs": [
        {
          "output_type": "display_data",
          "data": {
            "image/png": "[encoded data removed]",
            "text/plain": [
              "<Figure size 432x288 with 1 Axes>"
            ]
          },
          "metadata": {
            "tags": [],
            "needs_background": "light"
          }
        }
      ]
    },
    {
      "cell_type": "code",
      "metadata": {
        "colab": {
          "base_uri": "https://localhost:8080/"
        },
        "id": "T7mstiRZIP1k",
        "outputId": "834136c0-87a7-4ad3-fba7-07dd163a9901"
      },
      "source": [
        "for param_tensor in model.state_dict():\n",
        "    print(param_tensor)\n",
        "    print(model.state_dict()[param_tensor])\n",
        "    print()"
      ],
      "execution_count": 54,
      "outputs": [
        {
          "output_type": "stream",
          "text": [
            "hidden.weight\n",
            "tensor([[ 0.5547],\n",
            "        [ 0.1268],\n",
            "        [ 0.1526],\n",
            "        [ 0.6409],\n",
            "        [ 1.0719],\n",
            "        [-0.4065],\n",
            "        [-0.1096],\n",
            "        [ 0.5849],\n",
            "        [-0.4846],\n",
            "        [ 1.3347]])\n",
            "\n",
            "hidden.bias\n",
            "tensor([-0.6850,  0.4587, -0.7183,  0.1891,  0.4601,  0.1785, -0.1002,  0.5258,\n",
            "        -0.7180, -0.1637])\n",
            "\n",
            "output.weight\n",
            "tensor([[-0.2695, -0.1413,  0.0082,  0.3121,  0.7014, -0.1201,  0.2632,  0.2047,\n",
            "         -0.0865,  0.7227]])\n",
            "\n",
            "output.bias\n",
            "tensor([-0.2704])\n",
            "\n"
          ],
          "name": "stdout"
        }
      ]
    },
    {
      "cell_type": "code",
      "metadata": {
        "colab": {
          "base_uri": "https://localhost:8080/"
        },
        "id": "u7P_QReXITKi",
        "outputId": "a72792a3-f650-4508-e416-df6392b12b78"
      },
      "source": [
        "from google.colab import drive\n",
        "drive.mount('/content/drive')"
      ],
      "execution_count": 55,
      "outputs": [
        {
          "output_type": "stream",
          "text": [
            "Mounted at /content/drive\n"
          ],
          "name": "stdout"
        }
      ]
    },
    {
      "cell_type": "code",
      "metadata": {
        "id": "J7ywZgjRnoSC"
      },
      "source": [
        "torch.save(model.state_dict(), '/content/drive/MyDrive/Deep Learning with Google Colab/sample.pth')"
      ],
      "execution_count": 56,
      "outputs": []
    },
    {
      "cell_type": "code",
      "metadata": {
        "id": "VbKU2XBLoGon",
        "colab": {
          "base_uri": "https://localhost:8080/"
        },
        "outputId": "1ffc563c-292f-4686-805d-7967d184b3ca"
      },
      "source": [
        "model = MyNNet(10)\n",
        "model.load_state_dict(torch.load('/content/drive/MyDrive/Deep Learning with Google Colab/sample.pth'))\n",
        "model.eval()"
      ],
      "execution_count": 57,
      "outputs": [
        {
          "output_type": "execute_result",
          "data": {
            "text/plain": [
              "MyNNet(\n",
              "  (hidden): Linear(in_features=1, out_features=10, bias=True)\n",
              "  (relu): ReLU()\n",
              "  (output): Linear(in_features=10, out_features=1, bias=True)\n",
              ")"
            ]
          },
          "metadata": {
            "tags": []
          },
          "execution_count": 57
        }
      ]
    },
    {
      "cell_type": "code",
      "metadata": {
        "id": "5QgiObeColij",
        "colab": {
          "base_uri": "https://localhost:8080/",
          "height": 269
        },
        "outputId": "341c7d0a-4bb7-4e36-dc23-2192da9f9245"
      },
      "source": [
        "x_test = torch.rand(50, 1)\n",
        "y_pred = []\n",
        "with torch.no_grad():\n",
        "    for i in range(x_test.size()[0]):\n",
        "        y_pred.append(model(x_test[i]).item())\n",
        "\n",
        "plt.scatter(x_test.data.numpy(), y_pred)\n",
        "plt.xlim(0, 1)\n",
        "plt.ylim(0, 2)\n",
        "plt.show()"
      ],
      "execution_count": 62,
      "outputs": [
        {
          "output_type": "display_data",
          "data": {
            "image/png": "[encoded data removed]",
            "text/plain": [
              "<Figure size 432x288 with 1 Axes>"
            ]
          },
          "metadata": {
            "tags": [],
            "needs_background": "light"
          }
        }
      ]
    }
  ]
}