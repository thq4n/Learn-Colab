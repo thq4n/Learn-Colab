{
  "nbformat": 4,
  "nbformat_minor": 0,
  "metadata": {
    "colab": {
      "name": "DLGC - Autograd.ipynb",
      "provenance": [],
      "collapsed_sections": [],
      "authorship_tag": "ABX9TyO0eG8EczN/iFHR2XNhPE7W",
      "include_colab_link": true
    },
    "kernelspec": {
      "name": "python3",
      "display_name": "Python 3"
    },
    "language_info": {
      "name": "python"
    }
  },
  "cells": [
    {
      "cell_type": "markdown",
      "metadata": {
        "id": "view-in-github",
        "colab_type": "text"
      },
      "source": [
        "<a href=\"https://colab.research.google.com/github/thq4n/Learn-Colab/blob/main/DLGC_Autograd.ipynb\" target=\"_parent\"><img src=\"https://colab.research.google.com/assets/colab-badge.svg\" alt=\"Open In Colab\"/></a>"
      ]
    },
    {
      "cell_type": "code",
      "metadata": {
        "id": "2DL_0UyYG6VT"
      },
      "source": [
        "import torch"
      ],
      "execution_count": null,
      "outputs": []
    },
    {
      "cell_type": "code",
      "metadata": {
        "id": "lReAxPYtGAab",
        "colab": {
          "base_uri": "https://localhost:8080/"
        },
        "outputId": "fbaadb17-e3b1-4ba3-d13e-6ceaf08c7388"
      },
      "source": [
        "w = torch.tensor([1], dtype=torch.float, requires_grad=True)\n",
        "w"
      ],
      "execution_count": null,
      "outputs": [
        {
          "output_type": "execute_result",
          "data": {
            "text/plain": [
              "tensor([1.], requires_grad=True)"
            ]
          },
          "metadata": {
            "tags": []
          },
          "execution_count": 31
        }
      ]
    },
    {
      "cell_type": "code",
      "metadata": {
        "id": "t4XEcs8LGFaN"
      },
      "source": [
        "def forward(x):\n",
        "    return x * w\n",
        "\n",
        "def loss(x, y):\n",
        "    y_pred = forward(x)\n",
        "    return (y_pred - y) ** 2 "
      ],
      "execution_count": null,
      "outputs": []
    },
    {
      "cell_type": "code",
      "metadata": {
        "id": "yOrkwak2GWc-",
        "colab": {
          "base_uri": "https://localhost:8080/"
        },
        "outputId": "208d8faf-78bb-4bcf-cc3e-063bdc5b54c2"
      },
      "source": [
        "print(f'Predict from 1: {forward(1).data[0]}')"
      ],
      "execution_count": null,
      "outputs": [
        {
          "output_type": "stream",
          "text": [
            "Predict from 1: 1.0\n"
          ],
          "name": "stdout"
        }
      ]
    },
    {
      "cell_type": "code",
      "metadata": {
        "id": "9aZ49OA_Gr1N",
        "colab": {
          "base_uri": "https://localhost:8080/"
        },
        "outputId": "364b9e4a-308b-4147-a4e0-988813d84982"
      },
      "source": [
        "my_loss = loss(1, 2)\n",
        "print(my_loss)\n",
        "my_loss.backward()\n",
        "print(f'Gradient: 1, 2, {w.grad.data[0]}')"
      ],
      "execution_count": null,
      "outputs": [
        {
          "output_type": "stream",
          "text": [
            "tensor([1.], grad_fn=<PowBackward0>)\n",
            "Gradient: 1, 2, -4.0\n"
          ],
          "name": "stdout"
        }
      ]
    },
    {
      "cell_type": "code",
      "metadata": {
        "id": "IwJ2x9xrHgCH",
        "colab": {
          "base_uri": "https://localhost:8080/"
        },
        "outputId": "93ae6db9-443f-4a8c-f571-4010a8d31167"
      },
      "source": [
        "w.data = w.data - 0.1 * w.grad.data\n",
        "w.grad.data.zero_()\n",
        "print(w)"
      ],
      "execution_count": null,
      "outputs": [
        {
          "output_type": "stream",
          "text": [
            "tensor([1.4000], requires_grad=True)\n"
          ],
          "name": "stdout"
        }
      ]
    },
    {
      "cell_type": "code",
      "metadata": {
        "id": "SrBYDczEHxaG"
      },
      "source": [
        ""
      ],
      "execution_count": null,
      "outputs": []
    }
  ]
}