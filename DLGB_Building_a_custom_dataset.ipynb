{
  "nbformat": 4,
  "nbformat_minor": 0,
  "metadata": {
    "colab": {
      "name": "DLGB - Building a custom dataset.ipynb",
      "provenance": [],
      "collapsed_sections": [],
      "authorship_tag": "ABX9TyO3cYpaE7nHfF9hHhpcS9nB",
      "include_colab_link": true
    },
    "kernelspec": {
      "name": "python3",
      "display_name": "Python 3"
    },
    "language_info": {
      "name": "python"
    }
  },
  "cells": [
    {
      "cell_type": "markdown",
      "metadata": {
        "id": "view-in-github",
        "colab_type": "text"
      },
      "source": [
        "<a href=\"https://colab.research.google.com/github/thq4n/Learn-Colab/blob/main/DLGB_Building_a_custom_dataset.ipynb\" target=\"_parent\"><img src=\"https://colab.research.google.com/assets/colab-badge.svg\" alt=\"Open In Colab\"/></a>"
      ]
    },
    {
      "cell_type": "code",
      "metadata": {
        "id": "G7TrxXprAirQ",
        "colab": {
          "base_uri": "https://localhost:8080/"
        },
        "outputId": "d8128449-517c-4f56-e62e-171f06e4401b"
      },
      "source": [
        "!wget https://sourceforge.net/projects/fotohound/files/sample-pictures/Sample/Sample-Pictures.zip\n",
        "!unzip Sample-Pictures.zip\n",
        "!mv \"Sample Pictures\" train"
      ],
      "execution_count": 1,
      "outputs": [
        {
          "output_type": "stream",
          "text": [
            "--2021-05-02 08:14:08--  https://sourceforge.net/projects/fotohound/files/sample-pictures/Sample/Sample-Pictures.zip\n",
            "Resolving sourceforge.net (sourceforge.net)... 216.105.38.13\n",
            "Connecting to sourceforge.net (sourceforge.net)|216.105.38.13|:443... connected.\n",
            "HTTP request sent, awaiting response... 301 Moved Permanently\n",
            "Location: https://sourceforge.net/projects/fotohound/files/sample-pictures/Sample/Sample-Pictures.zip/ [following]\n",
            "--2021-05-02 08:14:08--  https://sourceforge.net/projects/fotohound/files/sample-pictures/Sample/Sample-Pictures.zip/\n",
            "Reusing existing connection to sourceforge.net:443.\n",
            "HTTP request sent, awaiting response... 302 Found\n",
            "Location: https://sourceforge.net/projects/fotohound/files/sample-pictures/Sample/Sample-Pictures.zip/download [following]\n",
            "--2021-05-02 08:14:08--  https://sourceforge.net/projects/fotohound/files/sample-pictures/Sample/Sample-Pictures.zip/download\n",
            "Reusing existing connection to sourceforge.net:443.\n",
            "HTTP request sent, awaiting response... 302 Found\n",
            "Location: https://downloads.sourceforge.net/project/fotohound/sample-pictures/Sample/Sample-Pictures.zip?ts=gAAAAABgjl9PQOwTySmJqRDwwCrsVDltdRyfxZEXU5QEMKBjnHdmgRrWnudbim8r1Gn0JdEUB3S8MHbAnXOjPCk4Y_kC5LjbGw%3D%3D&use_mirror=newcontinuum&r= [following]\n",
            "--2021-05-02 08:14:08--  https://downloads.sourceforge.net/project/fotohound/sample-pictures/Sample/Sample-Pictures.zip?ts=gAAAAABgjl9PQOwTySmJqRDwwCrsVDltdRyfxZEXU5QEMKBjnHdmgRrWnudbim8r1Gn0JdEUB3S8MHbAnXOjPCk4Y_kC5LjbGw%3D%3D&use_mirror=newcontinuum&r=\n",
            "Resolving downloads.sourceforge.net (downloads.sourceforge.net)... 216.105.38.13\n",
            "Connecting to downloads.sourceforge.net (downloads.sourceforge.net)|216.105.38.13|:443... connected.\n",
            "HTTP request sent, awaiting response... 302 Found\n",
            "Location: https://newcontinuum.dl.sourceforge.net/project/fotohound/sample-pictures/Sample/Sample-Pictures.zip [following]\n",
            "--2021-05-02 08:14:08--  https://newcontinuum.dl.sourceforge.net/project/fotohound/sample-pictures/Sample/Sample-Pictures.zip\n",
            "Resolving newcontinuum.dl.sourceforge.net (newcontinuum.dl.sourceforge.net)... 64.79.96.4, 2607:ff50:0:11::32\n",
            "Connecting to newcontinuum.dl.sourceforge.net (newcontinuum.dl.sourceforge.net)|64.79.96.4|:443... connected.\n",
            "HTTP request sent, awaiting response... 200 OK\n",
            "Length: 4076200 (3.9M) [application/octet-stream]\n",
            "Saving to: ‘Sample-Pictures.zip’\n",
            "\n",
            "Sample-Pictures.zip 100%[===================>]   3.89M  17.4MB/s    in 0.2s    \n",
            "\n",
            "2021-05-02 08:14:09 (17.4 MB/s) - ‘Sample-Pictures.zip’ saved [4076200/4076200]\n",
            "\n",
            "Archive:  Sample-Pictures.zip\n",
            "   creating: Sample Pictures/\n",
            "   creating: Sample Pictures/Flowers/\n",
            "  inflating: Sample Pictures/Flowers/DSC_0020.jpg  \n",
            "  inflating: Sample Pictures/Flowers/DSC_0020_th.jpg  \n",
            "  inflating: Sample Pictures/Flowers/DSC_0021.jpg  \n",
            "  inflating: Sample Pictures/Flowers/DSC_0021_th.jpg  \n",
            "  inflating: Sample Pictures/Flowers/DSC_0033.jpg  \n",
            "  inflating: Sample Pictures/Flowers/DSC_0033_th.jpg  \n",
            "  inflating: Sample Pictures/Flowers/DSC_0034.jpg  \n",
            "  inflating: Sample Pictures/Flowers/DSC_0034_th.jpg  \n",
            "  inflating: Sample Pictures/Flowers/DSC_0397.jpg  \n",
            "  inflating: Sample Pictures/Flowers/DSC_0397_th.jpg  \n",
            "  inflating: Sample Pictures/Flowers/DSC_0417.jpg  \n",
            "  inflating: Sample Pictures/Flowers/DSC_0417_th.jpg  \n",
            "  inflating: Sample Pictures/Flowers/DSC_0446.jpg  \n",
            "  inflating: Sample Pictures/Flowers/DSC_0446_th.jpg  \n",
            "  inflating: Sample Pictures/Flowers/DSC_0450.jpg  \n",
            "  inflating: Sample Pictures/Flowers/DSC_0450_th.jpg  \n",
            "  inflating: Sample Pictures/Flowers/DSC_0845.jpg  \n",
            "  inflating: Sample Pictures/Flowers/DSC_0845_th.jpg  \n",
            "  inflating: Sample Pictures/Flowers/DSC_0847.jpg  \n",
            "  inflating: Sample Pictures/Flowers/DSC_0847_th.jpg  \n",
            "  inflating: Sample Pictures/Flowers/DSC_0850.jpg  \n",
            "  inflating: Sample Pictures/Flowers/DSC_0850_th.jpg  \n",
            "  inflating: Sample Pictures/Flowers/DSC_0871.jpg  \n",
            "  inflating: Sample Pictures/Flowers/DSC_0871_th.jpg  \n",
            "  inflating: Sample Pictures/Flowers/DSC_0876.jpg  \n",
            "  inflating: Sample Pictures/Flowers/DSC_0876_th.jpg  \n",
            "  inflating: Sample Pictures/Flowers/DSC_1105.jpg  \n",
            "  inflating: Sample Pictures/Flowers/DSC_1105_th.jpg  \n",
            "  inflating: Sample Pictures/Flowers/DSC_1142.jpg  \n",
            "  inflating: Sample Pictures/Flowers/DSC_1142_th.jpg  \n",
            "  inflating: Sample Pictures/Flowers/DSC_2870.jpg  \n",
            "  inflating: Sample Pictures/Flowers/DSC_2870_th.jpg  \n",
            "  inflating: Sample Pictures/Flowers/DSC_8125.jpg  \n",
            "  inflating: Sample Pictures/Flowers/DSC_8125_th.jpg  \n",
            "   creating: Sample Pictures/Scenery/\n",
            "  inflating: Sample Pictures/Scenery/DSC_0249.jpg  \n",
            "  inflating: Sample Pictures/Scenery/DSC_0249_th.jpg  \n",
            "  inflating: Sample Pictures/Scenery/DSC_0261.jpg  \n",
            "  inflating: Sample Pictures/Scenery/DSC_0261_th.jpg  \n",
            "  inflating: Sample Pictures/Scenery/DSC_0339.jpg  \n",
            "  inflating: Sample Pictures/Scenery/DSC_0339_th.jpg  \n",
            "  inflating: Sample Pictures/Scenery/DSC_0348.jpg  \n",
            "  inflating: Sample Pictures/Scenery/DSC_0348_th.jpg  \n",
            "  inflating: Sample Pictures/Scenery/DSC_0358.jpg  \n",
            "  inflating: Sample Pictures/Scenery/DSC_0358_th.jpg  \n",
            "  inflating: Sample Pictures/Scenery/DSC_0934.jpg  \n",
            "  inflating: Sample Pictures/Scenery/DSC_0934_th.jpg  \n",
            "  inflating: Sample Pictures/Scenery/DSC_2057m.jpg  \n",
            "  inflating: Sample Pictures/Scenery/DSC_2057m_th.jpg  \n",
            "  inflating: Sample Pictures/Scenery/DSC_2132.jpg  \n",
            "  inflating: Sample Pictures/Scenery/DSC_2132_th.jpg  \n",
            "  inflating: Sample Pictures/Scenery/DSC_2174.jpg  \n",
            "  inflating: Sample Pictures/Scenery/DSC_2174_th.jpg  \n",
            "  inflating: Sample Pictures/Scenery/DSC_2940.jpg  \n",
            "  inflating: Sample Pictures/Scenery/DSC_2940_th.jpg  \n",
            "  inflating: Sample Pictures/Scenery/DSC_4258.jpg  \n",
            "  inflating: Sample Pictures/Scenery/DSC_4258_th.jpg  \n",
            "  inflating: Sample Pictures/Scenery/DSC_5645.jpg  \n",
            "  inflating: Sample Pictures/Scenery/DSC_5645_th.jpg  \n",
            "   creating: Sample Pictures/Zoo/\n",
            "  inflating: Sample Pictures/Zoo/DSC_4145.jpg  \n",
            "  inflating: Sample Pictures/Zoo/DSC_4145_th.jpg  \n",
            "  inflating: Sample Pictures/Zoo/DSC_4321.jpg  \n",
            "  inflating: Sample Pictures/Zoo/DSC_4321_th.jpg  \n",
            "  inflating: Sample Pictures/Zoo/DSC_4351.jpg  \n",
            "  inflating: Sample Pictures/Zoo/DSC_4351_th.jpg  \n",
            "  inflating: Sample Pictures/Zoo/DSC_4384.jpg  \n",
            "  inflating: Sample Pictures/Zoo/DSC_4384_th.jpg  \n",
            "  inflating: Sample Pictures/Zoo/DSC_4399.jpg  \n",
            "  inflating: Sample Pictures/Zoo/DSC_4399_th.jpg  \n",
            "  inflating: Sample Pictures/Zoo/DSC_4561.jpg  \n",
            "  inflating: Sample Pictures/Zoo/DSC_4561_th.jpg  \n",
            "  inflating: Sample Pictures/Zoo/DSC_4607.jpg  \n",
            "  inflating: Sample Pictures/Zoo/DSC_4607_th.jpg  \n",
            "  inflating: Sample Pictures/Zoo/DSC_5907.jpg  \n",
            "  inflating: Sample Pictures/Zoo/DSC_5907_th.jpg  \n",
            "  inflating: Sample Pictures/Zoo/DSC_6494.jpg  \n",
            "  inflating: Sample Pictures/Zoo/DSC_6494_th.jpg  \n",
            "  inflating: Sample Pictures/Zoo/DSC_6558.jpg  \n",
            "  inflating: Sample Pictures/Zoo/DSC_6558_th.jpg  \n",
            "  inflating: Sample Pictures/Zoo/DSC_6590.jpg  \n",
            "  inflating: Sample Pictures/Zoo/DSC_6590_th.jpg  \n",
            "  inflating: Sample Pictures/Zoo/DSC_6603.jpg  \n",
            "  inflating: Sample Pictures/Zoo/DSC_6603_th.jpg  \n",
            "  inflating: Sample Pictures/Zoo/DSC_6824.jpg  \n",
            "  inflating: Sample Pictures/Zoo/DSC_6824_th.jpg  \n",
            "  inflating: Sample Pictures/Zoo/DSC_6857.jpg  \n",
            "  inflating: Sample Pictures/Zoo/DSC_6857_th.jpg  \n"
          ],
          "name": "stdout"
        }
      ]
    },
    {
      "cell_type": "code",
      "metadata": {
        "id": "4Lr8t5ifOy3v"
      },
      "source": [
        "import torch\n",
        "import torchvision\n",
        "import cv2\n",
        "from PIL import Image\n",
        "import matplotlib.pyplot as plt\n",
        "\n",
        "import os\n",
        "import shutil\n",
        "import random; random.seed(1)"
      ],
      "execution_count": 2,
      "outputs": []
    },
    {
      "cell_type": "code",
      "metadata": {
        "id": "7LCLsJCdTd7-"
      },
      "source": [
        "labels = ['Flowers', 'Scenery', 'Zoo']\n",
        "\n",
        "train_directory = './train'\n",
        "val_directory = './val'\n",
        "\n",
        "try:\n",
        "    os.mkdir(val_directory)\n",
        "except FileExistsError:\n",
        "    pass\n",
        "\n",
        "for label in labels:\n",
        "    os.mkdir(os.path.join(val_directory, label))\n",
        "    \n",
        "    images = os.listdir(os.path.join(train_directory, label))\n",
        "    val_images = random.sample(images, len(images) // 5)\n",
        "    \n",
        "    for image in val_images:\n",
        "        shutil.move(\n",
        "            os.path.join(train_directory, label, image),\n",
        "            os.path.join(val_directory, label, image)\n",
        "        )\n"
      ],
      "execution_count": null,
      "outputs": []
    },
    {
      "cell_type": "code",
      "metadata": {
        "id": "rH4W2pIwbYEh"
      },
      "source": [
        "sample_train_img = cv2.imread('train/Flowers/DSC_0020_th.jpg')\n",
        "plt.imshow(sample_train_img)\n",
        "plt.axis('off')\n",
        "plt.show()"
      ],
      "execution_count": null,
      "outputs": []
    },
    {
      "cell_type": "code",
      "metadata": {
        "id": "duloEbq6bvu2"
      },
      "source": [
        "sample_val_img = cv2.imread('val/Zoo/DSC_4351.jpg')\n",
        "plt.imshow(sample_val_img)\n",
        "plt.axis('off')\n",
        "plt.show()"
      ],
      "execution_count": null,
      "outputs": []
    },
    {
      "cell_type": "code",
      "metadata": {
        "id": "WCdXCcRkOMCE"
      },
      "source": [
        "class ImageDataset(torch.utils.data.Dataset):\n",
        "    def __init__(self, directory, transform=None):\n",
        "        self.directory = directory\n",
        "        self.dataset = torchvision.datasets.ImageFolder(\n",
        "            self.directory,\n",
        "            transform=transform,\n",
        "            loader=self.__load_image\n",
        "        )\n",
        "        self.transform = transform\n",
        "    \n",
        "    def __len__(self):\n",
        "        return len(self.dataset)\n",
        "    \n",
        "    def __load_image(self, path):\n",
        "        img = cv2.imread(path, 0)\n",
        "        img = cv2.resize(img, (500, 500))\n",
        "        img = Image.fromarray(img, mode='L')\n",
        "        return img\n",
        "    \n",
        "    def __getitem__(self, idx):\n",
        "        return self.dataset[idx]"
      ],
      "execution_count": null,
      "outputs": []
    },
    {
      "cell_type": "code",
      "metadata": {
        "id": "jUEJLOdEP4-r"
      },
      "source": [
        "train_dataset = ImageDataset(train_directory)\n",
        "val_dataset = ImageDataset(val_directory)"
      ],
      "execution_count": null,
      "outputs": []
    },
    {
      "cell_type": "code",
      "metadata": {
        "id": "nMjodD12QOuD"
      },
      "source": [
        "n_img = 8\n",
        "\n",
        "for i in range(n_img // 2):\n",
        "    plt.subplot(2, 4, i + 1)\n",
        "    img, label = train_dataset[random.randint(0, len(train_dataset) - 1)]\n",
        "    plt.imshow(img, cmap='gray')\n",
        "    plt.title(train_dataset.dataset.classes[label])\n",
        "    plt.axis('off')\n",
        "\n",
        "for i in range(n_img // 2):\n",
        "    plt.subplot(2, 4, n_img // 2 + i + 1)\n",
        "    img, label = val_dataset[random.randint(0, len(val_dataset) - 1)]\n",
        "    plt.imshow(img, cmap='gray')\n",
        "    plt.title(val_dataset.dataset.classes[label])\n",
        "    plt.axis('off')\n",
        "\n",
        "plt.show()"
      ],
      "execution_count": null,
      "outputs": []
    }
  ]
}